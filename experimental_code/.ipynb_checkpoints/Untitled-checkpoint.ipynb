{
 "cells": [
  {
   "cell_type": "code",
   "execution_count": null,
   "metadata": {},
   "outputs": [],
   "source": [
    "data_ts = data.loc[:, ~data.columns.isin(['Unnamed: 0', 'event','time','RACEBLACK','MALE','AGE_Y0'])]\n",
    "# data_ts.rename(columns={\"exam_year\": \"time\"}\n",
    "data_ts\n",
    "\n",
    "n_exam = 6\n",
    "n_vars = 6\n",
    "n_subjects = 3551\n",
    "desired_data_format = np.array([[[0 for k in range(n_exam)] for j in range(n_vars)] for i in range(n_subjects)])\n",
    "desired_data_format.shape\n",
    "\n",
    "varying_var = ['CHOL','DIAB','HBM','HDL','SBP','SMKNW']\n",
    "for i in range(varying_var):\n",
    "    var_wide_df = data_ts.pivot(index='ID', columns='exam_year', values=varying_var[i])\n",
    "    var_wide_df_locf = var_wide_df.T.fillna(method='ffill').T\n",
    "    var_wide_locf_matrix = var_wide_df_locf.values\n",
    "    desired_data_format[:,i,:] = var_wide_locf_matrix"
   ]
  }
 ],
 "metadata": {
  "kernelspec": {
   "display_name": "Python 3",
   "language": "python",
   "name": "python3"
  },
  "language_info": {
   "codemirror_mode": {
    "name": "ipython",
    "version": 3
   },
   "file_extension": ".py",
   "mimetype": "text/x-python",
   "name": "python",
   "nbconvert_exporter": "python",
   "pygments_lexer": "ipython3",
   "version": "3.8.5"
  }
 },
 "nbformat": 4,
 "nbformat_minor": 4
}
